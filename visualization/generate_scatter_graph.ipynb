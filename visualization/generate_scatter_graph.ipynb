{
 "cells": [
  {
   "cell_type": "code",
   "execution_count": 93,
   "metadata": {
    "collapsed": false
   },
   "outputs": [],
   "source": [
    "from bokeh.models.tools import (\n",
    "    BoxZoomTool, BoxZoomTool, HelpTool, LassoSelectTool, PanTool,\n",
    "    PreviewSaveTool, ResetTool, ResizeTool, WheelZoomTool,\n",
    "    TapTool\n",
    ")"
   ]
  },
  {
   "cell_type": "code",
   "execution_count": 95,
   "metadata": {
    "collapsed": false
   },
   "outputs": [],
   "source": [
    "GRAPH_HEIGHT = 1000\n",
    "GRAPH_WIDTH = 800\n",
    "TOOLS = [WheelZoomTool(), PanTool(), ResetTool(), TapTool()]"
   ]
  },
  {
   "cell_type": "markdown",
   "metadata": {},
   "source": [
    "# Import bokeh libraries"
   ]
  },
  {
   "cell_type": "code",
   "execution_count": 2,
   "metadata": {
    "collapsed": false
   },
   "outputs": [],
   "source": [
    "from bokeh.plotting import figure, output_file, show\n",
    "from bokeh import models"
   ]
  },
  {
   "cell_type": "markdown",
   "metadata": {},
   "source": [
    "Import bokeh, sub modules for making scallter graph with tooltip"
   ]
  },
  {
   "cell_type": "code",
   "execution_count": 58,
   "metadata": {
    "collapsed": true
   },
   "outputs": [],
   "source": [
    "from bokeh.plotting import figure, output_file, show, ColumnDataSource\n",
    "from bokeh.models import HoverTool"
   ]
  },
  {
   "cell_type": "markdown",
   "metadata": {},
   "source": [
    "# Import other general libs"
   ]
  },
  {
   "cell_type": "code",
   "execution_count": 7,
   "metadata": {
    "collapsed": true
   },
   "outputs": [],
   "source": [
    "import json\n",
    "import codecs"
   ]
  },
  {
   "cell_type": "markdown",
   "metadata": {},
   "source": [
    "# load dataset to plot"
   ]
  },
  {
   "cell_type": "code",
   "execution_count": 89,
   "metadata": {
    "collapsed": false
   },
   "outputs": [],
   "source": [
    "PATH_TO_DOCUMENT_SVD = './data_for_visual/document_svd_obj.json'\n",
    "document_svd_result = json.loads(codecs.open(PATH_TO_DOCUMENT_SVD, 'r', 'utf-8').read())"
   ]
  },
  {
   "cell_type": "markdown",
   "metadata": {},
   "source": [
    "# Make objects to be needed to plot"
   ]
  },
  {
   "cell_type": "code",
   "execution_count": 96,
   "metadata": {
    "collapsed": false
   },
   "outputs": [],
   "source": [
    "# This should be function\n",
    "XY_list = [member_obj['position_vector'] for member_obj in document_svd_result.values()]\n",
    "universities = [member_obj['university'] for member_obj in document_svd_result.values()]\n",
    "major = [member_obj['major'] for member_obj in document_svd_result.values()]\n",
    "height = [member_obj['height'] for member_obj in document_svd_result.values()]\n",
    "age = [member_obj['age'] for member_obj in document_svd_result.values()]\n",
    "X = [xy[0] for xy in XY_list]\n",
    "Y = [xy[1] for xy in XY_list]\n",
    "labels = [member_obj['member_name'] for member_obj in document_svd_result.values()]\n",
    "images = [str(member_obj['photo_url'].replace(u'//img', u'/img')) for member_obj in document_svd_result.values()]\n",
    "blog_links = [member_obj['blog_url'] for member_obj in document_svd_result.values()]"
   ]
  },
  {
   "cell_type": "code",
   "execution_count": 97,
   "metadata": {
    "collapsed": false
   },
   "outputs": [],
   "source": [
    "output_file(\"scatter_tooltip.html\")\n",
    "\n",
    "source = ColumnDataSource(\n",
    "        data=dict(\n",
    "        x=X,\n",
    "        y=Y,\n",
    "        desc=labels,\n",
    "        imgs = images,\n",
    "        univ=universities,\n",
    "        major=major,\n",
    "        height=height,\n",
    "        age=age,\n",
    "        blog=blog_links\n",
    "        )\n",
    "    )\n",
    "\n",
    "hover = HoverTool(\n",
    "        tooltips=\"\"\"\n",
    "        <div>\n",
    "            <div>\n",
    "                <img\n",
    "                    src=\"@imgs\" height=\"100\" alt=\"@imgs\" width=\"100\"\n",
    "                    style=\"float: left; margin: 0px 15px 40px 0px;\"\n",
    "                    border=\"2\"\n",
    "                >\n",
    "                <br>\n",
    "                </img>\n",
    "            </div>\n",
    "            <div>\n",
    "                <span style=\"font-size: 17px; font-weight: bold;\"><nobr>@desc さん</nobr></span>\n",
    "                <span style=\"font-size: 12px; color: #966;\">[$index]</span>\n",
    "            </div>\n",
    "            <div>\n",
    "                <span style=\"font-size: 13px;\">応援ブログ: <A Href=\"URL\" Target=\"_blank\">@univ</A> </span><br>\n",
    "                <span style=\"font-size: 10px;\">University: @univ</span><br>\n",
    "                <span style=\"font-size: 10px;\">Major: @major</span><br>\n",
    "                <span style=\"font-size: 10px;\">age: @age</span><br>\n",
    "                <span style=\"font-size: 10px;\">height: @height</span><br>\n",
    "            </div>            \n",
    "            <div>\n",
    "                <span style=\"font-size: 12px;\">Position</span>\n",
    "                <span style=\"font-size: 10px; color: #696;\">($x, $y)</span>\n",
    "            </div>\n",
    "        </div>\n",
    "        \"\"\"\n",
    "    )\n",
    "\n",
    "\n",
    "p = figure(plot_width=GRAPH_WIDTH, plot_height=GRAPH_HEIGHT, tools=[hover]+TOOLS,\n",
    "           title=\"Miss Contest Similarity\")\n",
    "\n",
    "p.circle('x', 'y', size=10, source=source)\n",
    "\n",
    "show(p)"
   ]
  },
  {
   "cell_type": "code",
   "execution_count": null,
   "metadata": {
    "collapsed": true
   },
   "outputs": [],
   "source": []
  }
 ],
 "metadata": {
  "kernelspec": {
   "display_name": "Python 2",
   "language": "python",
   "name": "python2"
  },
  "language_info": {
   "codemirror_mode": {
    "name": "ipython",
    "version": 2
   },
   "file_extension": ".py",
   "mimetype": "text/x-python",
   "name": "python",
   "nbconvert_exporter": "python",
   "pygments_lexer": "ipython2",
   "version": "2.7.10"
  }
 },
 "nbformat": 4,
 "nbformat_minor": 0
}
