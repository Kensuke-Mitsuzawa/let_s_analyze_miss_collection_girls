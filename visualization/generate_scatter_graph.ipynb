{
 "cells": [
  {
   "cell_type": "code",
   "execution_count": 304,
   "metadata": {
    "collapsed": true
   },
   "outputs": [],
   "source": [
    "from bokeh.models.tools import (\n",
    "    BoxZoomTool, BoxZoomTool, HelpTool, LassoSelectTool, PanTool,\n",
    "    PreviewSaveTool, ResetTool, ResizeTool, WheelZoomTool\n",
    ")"
   ]
  },
  {
   "cell_type": "markdown",
   "metadata": {},
   "source": [
    "# Import other general libs"
   ]
  },
  {
   "cell_type": "code",
   "execution_count": 280,
   "metadata": {
    "collapsed": true
   },
   "outputs": [],
   "source": [
    "import json\n",
    "import codecs"
   ]
  },
  {
   "cell_type": "markdown",
   "metadata": {},
   "source": [
    "## Miss data"
   ]
  },
  {
   "cell_type": "code",
   "execution_count": 285,
   "metadata": {
    "collapsed": true
   },
   "outputs": [],
   "source": [
    "MISS_PATH_TO_DOCUMENT_SVD = './data_for_visual/miss_document_svd_obj.json'\n",
    "miss_document_svd_result = json.loads(codecs.open(MISS_PATH_TO_DOCUMENT_SVD, 'r', 'utf-8').read())"
   ]
  },
  {
   "cell_type": "code",
   "execution_count": 286,
   "metadata": {
    "collapsed": true
   },
   "outputs": [],
   "source": [
    "MISS_PATH_TO_DOCUMENT_tsne = './data_for_visual/miss_document_tsne_obj.json'\n",
    "miss_document_tsne_result = json.loads(codecs.open(MISS_PATH_TO_DOCUMENT_tsne, 'r', 'utf-8').read())"
   ]
  },
  {
   "cell_type": "code",
   "execution_count": 287,
   "metadata": {
    "collapsed": true
   },
   "outputs": [],
   "source": [
    "MISS_PATH_TO_PICS_tsne = './data_for_visual/miss_pics_tsne_obj.json'\n",
    "miss_pics_tsne_result = json.loads(codecs.open(MISS_PATH_TO_PICS_tsne, 'r', 'utf-8').read())"
   ]
  },
  {
   "cell_type": "markdown",
   "metadata": {},
   "source": [
    "## Mr"
   ]
  },
  {
   "cell_type": "code",
   "execution_count": 288,
   "metadata": {
    "collapsed": true
   },
   "outputs": [],
   "source": [
    "MR_PATH_TO_DOCUMENT_SVD = './data_for_visual/mr_document_svd_obj.json'\n",
    "mr_document_svd_result = json.loads(codecs.open(MR_PATH_TO_DOCUMENT_SVD, 'r', 'utf-8').read())"
   ]
  },
  {
   "cell_type": "code",
   "execution_count": 289,
   "metadata": {
    "collapsed": true
   },
   "outputs": [],
   "source": [
    "MR_PATH_TO_DOCUMENT_tsne = './data_for_visual/mr_document_tsne_obj.json'\n",
    "mr_document_tsne_result = json.loads(codecs.open(MR_PATH_TO_DOCUMENT_tsne, 'r', 'utf-8').read())"
   ]
  },
  {
   "cell_type": "code",
   "execution_count": 290,
   "metadata": {
    "collapsed": true
   },
   "outputs": [],
   "source": [
    "MR_PATH_TO_PICS_tsne = './data_for_visual/mr_pics_tsne_obj.json'\n",
    "mr_pics_tsne_result = json.loads(codecs.open(MR_PATH_TO_PICS_tsne, 'r', 'utf-8').read())"
   ]
  },
  {
   "cell_type": "markdown",
   "metadata": {},
   "source": [
    "# Functions to make scatter graph"
   ]
  },
  {
   "cell_type": "code",
   "execution_count": 317,
   "metadata": {
    "collapsed": true
   },
   "outputs": [],
   "source": [
    "def format_item_values(document_svd_result, image_root_url):\n",
    "\n",
    "    # This should be function\n",
    "    XY_list = [member_obj['position_vector'] for member_obj in document_svd_result.values()]\n",
    "    universities = [member_obj['university'] for member_obj in document_svd_result.values()]\n",
    "    major = [member_obj['major'] for member_obj in document_svd_result.values()]\n",
    "    height = [member_obj['height'] for member_obj in document_svd_result.values()]\n",
    "    age = [member_obj['age'] for member_obj in document_svd_result.values()]\n",
    "    X = [xy[0] for xy in XY_list]\n",
    "    Y = [xy[1] for xy in XY_list]\n",
    "    labels = [member_obj['member_name'] for member_obj in document_svd_result.values()]\n",
    "    #images = [str(member_obj['photo_url'].replace(u'//img', u'/img')) for member_obj in document_svd_result.values()]\n",
    "    images = ['{}{}'.format(image_root_url, name_rubi) for name_rubi in document_svd_result.keys()]\n",
    "    blog_links = [member_obj['blog_url'] for member_obj in document_svd_result.values()]\n",
    "    profile_links = [member_obj['profile_url'] for member_obj in document_svd_result.values()]\n",
    "    \n",
    "    return {\n",
    "        'X': X,\n",
    "        'Y': Y,\n",
    "        'universities': universities,\n",
    "        'major': major,\n",
    "        'height': height,\n",
    "        'age': age,\n",
    "        'labels': labels,\n",
    "        'images': images,\n",
    "        'blog_links': blog_links,\n",
    "        'profile_links': profile_links\n",
    "    }"
   ]
  },
  {
   "cell_type": "code",
   "execution_count": 318,
   "metadata": {
    "collapsed": true
   },
   "outputs": [],
   "source": [
    "def generate_graph(items_for_graph, graph_title_name, graph_html_name):\n",
    "    # \n",
    "    from bokeh.io import output_file, show, vform, vplot\n",
    "    from bokeh.plotting import figure, output_file, show, ColumnDataSource\n",
    "    from bokeh.models import HoverTool, OpenURL, TapTool    \n",
    "    # Import bokeh, sub modules for making scallter graph with tooltip\n",
    "    from bokeh.models.widgets import DataTable, DateFormatter, TableColumn    \n",
    "    from bokeh.models import ColumnDataSource, OpenURL, TapTool\n",
    "    from bokeh.plotting import figure, output_file, show    \n",
    "    \n",
    "    output_file(graph_html_name)\n",
    "    GRAPH_HEIGHT = 1000\n",
    "    GRAPH_WIDTH = 800\n",
    "    TOOLS = [WheelZoomTool(), PanTool(), ResetTool(), TapTool()]\n",
    "    #TOOLS = []\n",
    "\n",
    "    source = ColumnDataSource(\n",
    "            data=dict(\n",
    "            x=items_for_graph['X'],\n",
    "            y=items_for_graph['Y'],\n",
    "            desc=items_for_graph['labels'],\n",
    "            imgs = items_for_graph['images'],\n",
    "            univ = items_for_graph['universities'],\n",
    "            major = items_for_graph['major'],\n",
    "            height = items_for_graph['height'],\n",
    "            age = items_for_graph['age'],\n",
    "            blog = items_for_graph['blog_links'],\n",
    "            profile= items_for_graph['profile_links'],\n",
    "            )\n",
    "        )\n",
    "    \n",
    "\n",
    "    hover = HoverTool(\n",
    "        tooltips=\"\"\"\n",
    "        <div>\n",
    "            <div>\n",
    "                <img\n",
    "                    src=\"@imgs\" height=\"100\" alt=\"@imgs\" width=\"100\"\n",
    "                    style=\"float: left; margin: 0px 15px 40px 0px;\"\n",
    "                    border=\"2\"\n",
    "                >\n",
    "                <br>\n",
    "                </img>\n",
    "            </div>\n",
    "            <div>\n",
    "                <span style=\"font-size: 17px; font-weight: bold;\"><nobr>@desc さん</nobr></span>\n",
    "                <span style=\"font-size: 12px; color: #966;\">[$index]</span>\n",
    "            </div>\n",
    "            <div>\n",
    "                <span style=\"font-size: 10px;\">University: @univ</span><br>\n",
    "                <span style=\"font-size: 10px;\">Major: @major</span><br>\n",
    "                <span style=\"font-size: 10px;\">age: @age</span><br>\n",
    "                <span style=\"font-size: 10px;\">height: @height</span><br>\n",
    "            </div>            \n",
    "            <div>\n",
    "                <span style=\"font-size: 12px;\">Position</span>\n",
    "                <span style=\"font-size: 10px; color: #696;\">($x, $y)</span>\n",
    "            </div>\n",
    "        </div>\n",
    "        \"\"\"\n",
    "        )\n",
    "\n",
    "\n",
    "    s1 = figure(plot_width=GRAPH_WIDTH, plot_height=GRAPH_HEIGHT, tools=[hover]+TOOLS,\n",
    "               title=graph_title_name)\n",
    "    s1.circle('x', 'y', size=10, source=source)\n",
    "    url = \"@profile\"\n",
    "    taptool = s1.select(type=TapTool)\n",
    "    taptool.callback = OpenURL(url=url)\n",
    "    \n",
    "    columns = [\n",
    "        TableColumn(field=\"desc\", title=\"Name\"),\n",
    "        TableColumn(field=\"univ\", title=\"University\"),\n",
    "        TableColumn(field=\"major\", title=\"Major\"),\n",
    "        TableColumn(field=\"age\", title=\"Age\"), \n",
    "        TableColumn(field=\"height\", title=\"Height\")\n",
    "    ]\n",
    "    data_table = DataTable(source=source, columns=columns, width=1000, height=500)\n",
    "    s2 = vform(data_table)\n",
    "    \n",
    "    p = vplot(s1, s2)\n",
    "\n",
    "    show(p)"
   ]
  },
  {
   "cell_type": "markdown",
   "metadata": {},
   "source": [
    "## generate scatter graph by document and svd"
   ]
  },
  {
   "cell_type": "markdown",
   "metadata": {},
   "source": [
    "## make girls' scatter graph"
   ]
  },
  {
   "cell_type": "code",
   "execution_count": 311,
   "metadata": {
    "collapsed": true
   },
   "outputs": [],
   "source": [
    "items_for_graph = format_item_values(miss_document_svd_result, image_root_url = IMAGE_ROOT_URL)\n",
    "IMAGE_ROOT_URL = 'http://kensuke-mi.pussycat.jp/univ_contest_project_pics/miss_pictures/'\n",
    "generate_graph(items_for_graph, \n",
    "               graph_title_name='girls similarity based on document svd',\n",
    "               graph_html_name=\"girls_document_svd_scatter.html\""
   ]
  },
  {
   "cell_type": "code",
   "execution_count": 312,
   "metadata": {
    "collapsed": false
   },
   "outputs": [],
   "source": [
    "IMAGE_ROOT_URL = 'http://kensuke-mi.pussycat.jp/univ_contest_project_pics/miss_pictures/'\n",
    "items_for_graph_pics_tsne = format_item_values(miss_pics_tsne_result, image_root_url = IMAGE_ROOT_URL)\n",
    "generate_graph(items_for_graph_pics_tsne, \n",
    "               graph_title_name='girls similarity based on pictures tsne', \n",
    "               graph_html_name=\"girls_pics_tsne_scatter.html\")"
   ]
  },
  {
   "cell_type": "markdown",
   "metadata": {},
   "source": [
    "## make boys' scatter graph"
   ]
  },
  {
   "cell_type": "code",
   "execution_count": 319,
   "metadata": {
    "collapsed": false
   },
   "outputs": [],
   "source": [
    "items_for_graph = format_item_values(mr_document_svd_result, image_root_url = IMAGE_ROOT_URL)\n",
    "IMAGE_ROOT_URL = 'http://kensuke-mi.pussycat.jp/univ_contest_project_pics/mr_pictures/'\n",
    "generate_graph(items_for_graph, \n",
    "               graph_title_name='boys similarity based on document svd',\n",
    "               graph_html_name=\"boys_document_svd_scatter.html\")"
   ]
  },
  {
   "cell_type": "code",
   "execution_count": 320,
   "metadata": {
    "collapsed": true
   },
   "outputs": [],
   "source": [
    "IMAGE_ROOT_URL = 'http://kensuke-mi.pussycat.jp/univ_contest_project_pics/mr_pictures/'\n",
    "items_for_graph_pics_tsne = format_item_values(mr_pics_tsne_result, image_root_url = IMAGE_ROOT_URL)\n",
    "generate_graph(items_for_graph_pics_tsne, \n",
    "               graph_title_name='boys similarity based on pictures tsne', \n",
    "               graph_html_name=\"boys_pics_tsne_scatter.html\")"
   ]
  }
 ],
 "metadata": {
  "kernelspec": {
   "display_name": "Python 2",
   "language": "python",
   "name": "python2"
  },
  "language_info": {
   "codemirror_mode": {
    "name": "ipython",
    "version": 2
   },
   "file_extension": ".py",
   "mimetype": "text/x-python",
   "name": "python",
   "nbconvert_exporter": "python",
   "pygments_lexer": "ipython2",
   "version": "2.7.10"
  }
 },
 "nbformat": 4,
 "nbformat_minor": 0
}
