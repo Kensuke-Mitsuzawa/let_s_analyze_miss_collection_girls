{
 "cells": [
  {
   "cell_type": "code",
   "execution_count": 1,
   "metadata": {
    "collapsed": false
   },
   "outputs": [
    {
     "name": "stderr",
     "output_type": "stream",
     "text": [
      "/Users/kensuke-mi/.pyenv/versions/anaconda-2.1.0/lib/python2.7/site-packages/numexpr/cpuinfo.py:71: UserWarning: [Errno 2] No such file or directory\n",
      "  stacklevel=stacklevel+1):\n"
     ]
    }
   ],
   "source": [
    "from bokeh.models.tools import (\n",
    "    BoxZoomTool, BoxZoomTool, HelpTool, LassoSelectTool, PanTool,\n",
    "    PreviewSaveTool, ResetTool, ResizeTool, WheelZoomTool\n",
    ")"
   ]
  },
  {
   "cell_type": "markdown",
   "metadata": {},
   "source": [
    "# Import other general libs"
   ]
  },
  {
   "cell_type": "code",
   "execution_count": 2,
   "metadata": {
    "collapsed": true
   },
   "outputs": [],
   "source": [
    "import json\n",
    "import codecs"
   ]
  },
  {
   "cell_type": "markdown",
   "metadata": {},
   "source": [
    "## Miss data"
   ]
  },
  {
   "cell_type": "code",
   "execution_count": 285,
   "metadata": {
    "collapsed": true
   },
   "outputs": [],
   "source": [
    "MISS_PATH_TO_DOCUMENT_SVD = './data_for_visual/miss_document_svd_obj.json'\n",
    "miss_document_svd_result = json.loads(codecs.open(MISS_PATH_TO_DOCUMENT_SVD, 'r', 'utf-8').read())"
   ]
  },
  {
   "cell_type": "code",
   "execution_count": 286,
   "metadata": {
    "collapsed": true
   },
   "outputs": [],
   "source": [
    "MISS_PATH_TO_DOCUMENT_tsne = './data_for_visual/miss_document_tsne_obj.json'\n",
    "miss_document_tsne_result = json.loads(codecs.open(MISS_PATH_TO_DOCUMENT_tsne, 'r', 'utf-8').read())"
   ]
  },
  {
   "cell_type": "code",
   "execution_count": 287,
   "metadata": {
    "collapsed": true
   },
   "outputs": [],
   "source": [
    "MISS_PATH_TO_PICS_tsne = './data_for_visual/miss_pics_tsne_obj.json'\n",
    "miss_pics_tsne_result = json.loads(codecs.open(MISS_PATH_TO_PICS_tsne, 'r', 'utf-8').read())"
   ]
  },
  {
   "cell_type": "code",
   "execution_count": 3,
   "metadata": {
    "collapsed": true
   },
   "outputs": [],
   "source": [
    "MISS_PATH_TO_DEEPNN_tsne = './data_for_visual/miss_pics_deepNN_obj.json'\n",
    "miss_deepNN_tsne_result = json.loads(codecs.open(MISS_PATH_TO_DEEPNN_tsne, 'r', 'utf-8').read())"
   ]
  },
  {
   "cell_type": "markdown",
   "metadata": {},
   "source": [
    "## Mr"
   ]
  },
  {
   "cell_type": "code",
   "execution_count": 288,
   "metadata": {
    "collapsed": true
   },
   "outputs": [],
   "source": [
    "MR_PATH_TO_DOCUMENT_SVD = './data_for_visual/mr_document_svd_obj.json'\n",
    "mr_document_svd_result = json.loads(codecs.open(MR_PATH_TO_DOCUMENT_SVD, 'r', 'utf-8').read())"
   ]
  },
  {
   "cell_type": "code",
   "execution_count": 289,
   "metadata": {
    "collapsed": true
   },
   "outputs": [],
   "source": [
    "MR_PATH_TO_DOCUMENT_tsne = './data_for_visual/mr_document_tsne_obj.json'\n",
    "mr_document_tsne_result = json.loads(codecs.open(MR_PATH_TO_DOCUMENT_tsne, 'r', 'utf-8').read())"
   ]
  },
  {
   "cell_type": "code",
   "execution_count": 290,
   "metadata": {
    "collapsed": true
   },
   "outputs": [],
   "source": [
    "MR_PATH_TO_PICS_tsne = './data_for_visual/mr_pics_tsne_obj.json'\n",
    "mr_pics_tsne_result = json.loads(codecs.open(MR_PATH_TO_PICS_tsne, 'r', 'utf-8').read())"
   ]
  },
  {
   "cell_type": "markdown",
   "metadata": {},
   "source": [
    "# Functions to make scatter graph"
   ]
  },
  {
   "cell_type": "code",
   "execution_count": 6,
   "metadata": {
    "collapsed": true
   },
   "outputs": [],
   "source": [
    "def format_item_values(document_svd_result, image_root_url):\n",
    "\n",
    "    # This should be function\n",
    "    XY_list = [member_obj['position_vector'] for member_obj in document_svd_result.values()]\n",
    "    universities = [member_obj['university'] for member_obj in document_svd_result.values()]\n",
    "    major = [member_obj['major'] for member_obj in document_svd_result.values()]\n",
    "    height = [member_obj['height'] for member_obj in document_svd_result.values()]\n",
    "    age = [member_obj['age'] for member_obj in document_svd_result.values()]\n",
    "    X = [xy[0] for xy in XY_list]\n",
    "    Y = [xy[1] for xy in XY_list]\n",
    "    labels = [member_obj['member_name'] for member_obj in document_svd_result.values()]\n",
    "    #images = [str(member_obj['photo_url'].replace(u'//img', u'/img')) for member_obj in document_svd_result.values()]\n",
    "    images = ['{}{}'.format(image_root_url, name_rubi) for name_rubi in document_svd_result.keys()]\n",
    "    blog_links = [member_obj['blog_url'] for member_obj in document_svd_result.values()]\n",
    "    profile_links = [member_obj['profile_url'] for member_obj in document_svd_result.values()]\n",
    "    \n",
    "    return {\n",
    "        'X': X,\n",
    "        'Y': Y,\n",
    "        'universities': universities,\n",
    "        'major': major,\n",
    "        'height': height,\n",
    "        'age': age,\n",
    "        'labels': labels,\n",
    "        'images': images,\n",
    "        'blog_links': blog_links,\n",
    "        'profile_links': profile_links\n",
    "    }"
   ]
  },
  {
   "cell_type": "code",
   "execution_count": 7,
   "metadata": {
    "collapsed": true
   },
   "outputs": [],
   "source": [
    "def generate_graph(items_for_graph, graph_title_name, graph_html_name):\n",
    "    # \n",
    "    from bokeh.io import output_file, show, vform, vplot\n",
    "    from bokeh.plotting import figure, output_file, show, ColumnDataSource\n",
    "    from bokeh.models import HoverTool, OpenURL, TapTool    \n",
    "    # Import bokeh, sub modules for making scallter graph with tooltip\n",
    "    from bokeh.models.widgets import DataTable, DateFormatter, TableColumn    \n",
    "    from bokeh.models import ColumnDataSource, OpenURL, TapTool\n",
    "    from bokeh.plotting import figure, output_file, show    \n",
    "    \n",
    "    output_file(graph_html_name)\n",
    "    GRAPH_HEIGHT = 1000\n",
    "    GRAPH_WIDTH = 800\n",
    "    TOOLS = [WheelZoomTool(), PanTool(), ResetTool(), TapTool()]\n",
    "    #TOOLS = []\n",
    "\n",
    "    source = ColumnDataSource(\n",
    "            data=dict(\n",
    "            x=items_for_graph['X'],\n",
    "            y=items_for_graph['Y'],\n",
    "            desc=items_for_graph['labels'],\n",
    "            imgs = items_for_graph['images'],\n",
    "            univ = items_for_graph['universities'],\n",
    "            major = items_for_graph['major'],\n",
    "            height = items_for_graph['height'],\n",
    "            age = items_for_graph['age'],\n",
    "            blog = items_for_graph['blog_links'],\n",
    "            profile= items_for_graph['profile_links'],\n",
    "            )\n",
    "        )\n",
    "    \n",
    "\n",
    "    hover = HoverTool(\n",
    "        tooltips=\"\"\"\n",
    "        <div>\n",
    "            <div>\n",
    "                <img\n",
    "                    src=\"@imgs\" height=\"100\" alt=\"@imgs\" width=\"100\"\n",
    "                    style=\"float: left; margin: 0px 15px 40px 0px;\"\n",
    "                    border=\"2\"\n",
    "                >\n",
    "                <br>\n",
    "                </img>\n",
    "            </div>\n",
    "            <div>\n",
    "                <span style=\"font-size: 17px; font-weight: bold;\"><nobr>@desc さん</nobr></span>\n",
    "                <span style=\"font-size: 12px; color: #966;\">[$index]</span>\n",
    "            </div>\n",
    "            <div>\n",
    "                <span style=\"font-size: 10px;\">University: @univ</span><br>\n",
    "                <span style=\"font-size: 10px;\">Major: @major</span><br>\n",
    "                <span style=\"font-size: 10px;\">age: @age</span><br>\n",
    "                <span style=\"font-size: 10px;\">height: @height</span><br>\n",
    "            </div>            \n",
    "            <div>\n",
    "                <span style=\"font-size: 12px;\">Position</span>\n",
    "                <span style=\"font-size: 10px; color: #696;\">($x, $y)</span>\n",
    "            </div>\n",
    "        </div>\n",
    "        \"\"\"\n",
    "        )\n",
    "\n",
    "\n",
    "    s1 = figure(plot_width=GRAPH_WIDTH, plot_height=GRAPH_HEIGHT, tools=[hover]+TOOLS,\n",
    "               title=graph_title_name)\n",
    "    s1.circle('x', 'y', size=10, source=source)\n",
    "    url = \"@profile\"\n",
    "    taptool = s1.select(type=TapTool)\n",
    "    taptool.callback = OpenURL(url=url)\n",
    "    \n",
    "    columns = [\n",
    "        TableColumn(field=\"desc\", title=\"Name\"),\n",
    "        TableColumn(field=\"univ\", title=\"University\"),\n",
    "        TableColumn(field=\"major\", title=\"Major\"),\n",
    "        TableColumn(field=\"age\", title=\"Age\"), \n",
    "        TableColumn(field=\"height\", title=\"Height\")\n",
    "    ]\n",
    "    data_table = DataTable(source=source, columns=columns, width=1000, height=500)\n",
    "    s2 = vform(data_table)\n",
    "    \n",
    "    p = vplot(s1, s2)\n",
    "\n",
    "    show(p)"
   ]
  },
  {
   "cell_type": "markdown",
   "metadata": {},
   "source": [
    "## generate scatter graph by document and svd"
   ]
  },
  {
   "cell_type": "markdown",
   "metadata": {},
   "source": [
    "## make girls' scatter graph"
   ]
  },
  {
   "cell_type": "code",
   "execution_count": 311,
   "metadata": {
    "collapsed": true
   },
   "outputs": [],
   "source": [
    "items_for_graph = format_item_values(miss_document_svd_result, image_root_url = IMAGE_ROOT_URL)\n",
    "IMAGE_ROOT_URL = 'http://kensuke-mi.pussycat.jp/univ_contest_project_pics/miss_pictures/'\n",
    "generate_graph(items_for_graph, \n",
    "               graph_title_name='girls similarity based on document svd',\n",
    "               graph_html_name=\"girls_document_svd_scatter.html\""
   ]
  },
  {
   "cell_type": "code",
   "execution_count": 312,
   "metadata": {
    "collapsed": false
   },
   "outputs": [],
   "source": [
    "IMAGE_ROOT_URL = 'http://kensuke-mi.pussycat.jp/univ_contest_project_pics/miss_pictures/'\n",
    "items_for_graph_pics_tsne = format_item_values(miss_pics_tsne_result, image_root_url = IMAGE_ROOT_URL)\n",
    "generate_graph(items_for_graph_pics_tsne, \n",
    "               graph_title_name='girls similarity based on pictures tsne', \n",
    "               graph_html_name=\"girls_pics_tsne_scatter.html\")"
   ]
  },
  {
   "cell_type": "code",
   "execution_count": 16,
   "metadata": {
    "collapsed": false
   },
   "outputs": [
    {
     "data": {
      "text/plain": [
       "[u'Ouchi Kasumi',\n",
       " u'Itatani Akiho',\n",
       " u'Furusawa Emu',\n",
       " u'Onoue Shuka',\n",
       " u'Morikawa Fumika',\n",
       " u'Sugawara Saori',\n",
       " u'Wada Mizuki',\n",
       " u'Kojima Momoko',\n",
       " u'Shoji Shiori',\n",
       " u'Homma Shoko',\n",
       " u'Nishida Norie',\n",
       " u'Kuramochi Aya',\n",
       " u'Kijima Arisa',\n",
       " u'Kusakabe Yae',\n",
       " u'Hisadome Suzuna',\n",
       " u'Yamamoto Shiori',\n",
       " u'Mitsushima Haruka',\n",
       " u'Kitamura Lisa',\n",
       " u'Tomita Mao',\n",
       " u'Kokubo Yuka',\n",
       " u'Taki Nanako',\n",
       " u'Fujita Asuka',\n",
       " u'Okuda Sato',\n",
       " u'Ueda Riyo',\n",
       " u'Fukasawa Saki',\n",
       " u'Fukui Serina',\n",
       " u'Tasaka Mayumi',\n",
       " u'Morita Marika',\n",
       " u'Takase Ayu',\n",
       " u'Naoi Momoka',\n",
       " u'Eguchi Saki',\n",
       " u'Matsumoto Manae',\n",
       " u'Kakinuma Honoka',\n",
       " u'Shimaoka Aya',\n",
       " u'Tonokawa Fumiko',\n",
       " u'Ojima Hiyori',\n",
       " u'Ono Haruka',\n",
       " u'Seya Hikaru',\n",
       " u'Sakai Runa',\n",
       " u'Takahashi Yuki',\n",
       " u'Kurihara Saki',\n",
       " u'Nishi Maika',\n",
       " u'Iwasawa Yurika',\n",
       " u'Adachi Mako',\n",
       " u'Kurimura Mayu',\n",
       " u'Suzuki Yume',\n",
       " u'Okuno Saori',\n",
       " u'Fujita Ayano',\n",
       " u'Inamura Naho',\n",
       " u'Goto Shinju',\n",
       " u'Inoue Seika',\n",
       " u'Miki Erika',\n",
       " u'Tomita Mami',\n",
       " u'Tomita Ayane',\n",
       " u'Isibashi Risa',\n",
       " u'Tutumi Kanae',\n",
       " u'Ishiguro Kanako',\n",
       " u'Suehara Rei',\n",
       " u'Inagaki Kaori',\n",
       " u'Suzuki Haruka',\n",
       " u'Takazato Erina',\n",
       " u'Nishimori Kozue',\n",
       " u'Igata Mikako',\n",
       " u'Ueta Hikari',\n",
       " u'Kuriyama Tomoko',\n",
       " u'Hayashi Nanaka',\n",
       " u'Uehara Rika',\n",
       " u'Hirahara Akiho',\n",
       " u'Ina Erika',\n",
       " u'Okada Arisa',\n",
       " u'Sato Minami',\n",
       " u'Torigoe Kana',\n",
       " u'Haginaka Wako',\n",
       " u'Chiwaki Nako',\n",
       " u'Yamaga Kotoko',\n",
       " u'Kaku Ayaka',\n",
       " u'Sawaki Sumire',\n",
       " u'Yoshida Hiroko',\n",
       " u'Naruta Chiho',\n",
       " u'Fukunaga Yuri',\n",
       " u'Hiraki Eru',\n",
       " u'Kioka Marina',\n",
       " u'Okumura Misaki',\n",
       " u'Otani Mizuki',\n",
       " u'Igarashi Yuri',\n",
       " u'Wada Ayaka',\n",
       " u'Maeda Yuuyu',\n",
       " u'Shibata Konomi',\n",
       " u'Nishiguchi Mao',\n",
       " u'Hirai Anna',\n",
       " u'Ro Ami',\n",
       " u'Uematsu Arisa',\n",
       " u'Araki Marina',\n",
       " u'Shiratori Yurina',\n",
       " u'Kimimura Makiko',\n",
       " u'Kitazawa Naho',\n",
       " u'Mikage Una',\n",
       " u'Nishida Rina',\n",
       " u'Taga Kaori',\n",
       " u'Matsufuji Yurika',\n",
       " u'Yamamoto Marina',\n",
       " u'Yasui Wakana',\n",
       " u'Tsujisawa Kanae',\n",
       " u'Shimizu Miyu',\n",
       " u'Ishida Shizuka',\n",
       " u'Shimizu Yumi',\n",
       " u'Fuji Ayaka',\n",
       " u'Nidaira Tamao',\n",
       " u'Nakamura Akari',\n",
       " u'Noumi Erina',\n",
       " u'Takagi Mariko',\n",
       " u'Okabe Emi',\n",
       " u'Tachibana Yuri',\n",
       " u'Takiguchi Mayu',\n",
       " u'Nakahigashi Saki',\n",
       " u'Tokida Kana',\n",
       " u'Koizumi Yuuna',\n",
       " u'Hosokawa Shiori',\n",
       " u'Amano Nanami',\n",
       " u'Asanuma Eri',\n",
       " u'Uehara Riyuki',\n",
       " u'Kimura Kana',\n",
       " u'Hiramoto Sayaka',\n",
       " u'Hataguchi Mio',\n",
       " u'Matsushita Ruka',\n",
       " u'Okabe Mayu',\n",
       " u'Takahashi Mari',\n",
       " u'Shizukawa Haruna',\n",
       " u'Urushibata Eri',\n",
       " u'Iida Serina',\n",
       " u'Ito Nagisa',\n",
       " u'Miyazaki Rei']"
      ]
     },
     "execution_count": 16,
     "metadata": {},
     "output_type": "execute_result"
    }
   ],
   "source": [
    "IMAGE_ROOT_URL = 'http://kensuke-mi.pussycat.jp/univ_contest_project_pics/miss_pictures/'\n",
    "items_for_graph_pics_deepNN = format_item_values(miss_deepNN_tsne_result, image_root_url = IMAGE_ROOT_URL)\n",
    "items_for_graph_pics_deepNN['profile_links']\n",
    "#generate_graph(items_for_graph_pics_deepNN, \n",
    "#               graph_title_name='girls similarity based on pictures deepNN', \n",
    "#               graph_html_name=\"girls_pics_deepNN_scatter.html\")"
   ]
  },
  {
   "cell_type": "markdown",
   "metadata": {},
   "source": [
    "## make boys' scatter graph"
   ]
  },
  {
   "cell_type": "code",
   "execution_count": 319,
   "metadata": {
    "collapsed": false
   },
   "outputs": [],
   "source": [
    "items_for_graph = format_item_values(mr_document_svd_result, image_root_url = IMAGE_ROOT_URL)\n",
    "IMAGE_ROOT_URL = 'http://kensuke-mi.pussycat.jp/univ_contest_project_pics/mr_pictures/'\n",
    "generate_graph(items_for_graph, \n",
    "               graph_title_name='boys similarity based on document svd',\n",
    "               graph_html_name=\"boys_document_svd_scatter.html\")"
   ]
  },
  {
   "cell_type": "code",
   "execution_count": 320,
   "metadata": {
    "collapsed": true
   },
   "outputs": [],
   "source": [
    "IMAGE_ROOT_URL = 'http://kensuke-mi.pussycat.jp/univ_contest_project_pics/mr_pictures/'\n",
    "items_for_graph_pics_tsne = format_item_values(mr_pics_tsne_result, image_root_url = IMAGE_ROOT_URL)\n",
    "generate_graph(items_for_graph_pics_tsne, \n",
    "               graph_title_name='boys similarity based on pictures tsne', \n",
    "               graph_html_name=\"boys_pics_tsne_scatter.html\")"
   ]
  }
 ],
 "metadata": {
  "kernelspec": {
   "display_name": "Python 2",
   "language": "python",
   "name": "python2"
  },
  "language_info": {
   "codemirror_mode": {
    "name": "ipython",
    "version": 2
   },
   "file_extension": ".py",
   "mimetype": "text/x-python",
   "name": "python",
   "nbconvert_exporter": "python",
   "pygments_lexer": "ipython2",
   "version": "2.7.10"
  }
 },
 "nbformat": 4,
 "nbformat_minor": 0
}
