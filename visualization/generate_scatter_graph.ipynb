{
 "cells": [
  {
   "cell_type": "code",
   "execution_count": 260,
   "metadata": {
    "collapsed": true
   },
   "outputs": [],
   "source": [
    "from bokeh.models.tools import (\n",
    "    BoxZoomTool, BoxZoomTool, HelpTool, LassoSelectTool, PanTool,\n",
    "    PreviewSaveTool, ResetTool, ResizeTool, WheelZoomTool\n",
    ")"
   ]
  },
  {
   "cell_type": "code",
   "execution_count": 272,
   "metadata": {
    "collapsed": true
   },
   "outputs": [],
   "source": [
    "GRAPH_HEIGHT = 1000\n",
    "GRAPH_WIDTH = 800\n",
    "TOOLS = [WheelZoomTool(), PanTool(), ResetTool(), TapTool()]\n",
    "#TOOLS = []\n",
    "IMAGE_ROOT_URL = 'http://kensuke-mi.pussycat.jp/univ_contest_project_pics/miss_pictures/'"
   ]
  },
  {
   "cell_type": "markdown",
   "metadata": {},
   "source": [
    "# Import bokeh libraries"
   ]
  },
  {
   "cell_type": "code",
   "execution_count": 273,
   "metadata": {
    "collapsed": true
   },
   "outputs": [],
   "source": [
    "from bokeh.plotting import figure, output_file, show\n",
    "from bokeh import models\n",
    "from bokeh.models.widgets import DataTable, DateFormatter, TableColumn"
   ]
  },
  {
   "cell_type": "markdown",
   "metadata": {},
   "source": [
    "Import bokeh, sub modules for making scallter graph with tooltip"
   ]
  },
  {
   "cell_type": "code",
   "execution_count": 274,
   "metadata": {
    "collapsed": false
   },
   "outputs": [],
   "source": [
    "from bokeh.io import output_file, show, vform, vplot\n",
    "from bokeh.plotting import figure, output_file, show, ColumnDataSource\n",
    "from bokeh.models import HoverTool, OpenURL, TapTool"
   ]
  },
  {
   "cell_type": "markdown",
   "metadata": {},
   "source": [
    "# Import other general libs"
   ]
  },
  {
   "cell_type": "code",
   "execution_count": 264,
   "metadata": {
    "collapsed": true
   },
   "outputs": [],
   "source": [
    "import json\n",
    "import codecs"
   ]
  },
  {
   "cell_type": "markdown",
   "metadata": {},
   "source": [
    "# load dataset to plot"
   ]
  },
  {
   "cell_type": "code",
   "execution_count": 194,
   "metadata": {
    "collapsed": true
   },
   "outputs": [],
   "source": [
    "PATH_TO_DOCUMENT_SVD = './data_for_visual/document_svd_obj.json'\n",
    "document_svd_result = json.loads(codecs.open(PATH_TO_DOCUMENT_SVD, 'r', 'utf-8').read())"
   ]
  },
  {
   "cell_type": "code",
   "execution_count": 195,
   "metadata": {
    "collapsed": true
   },
   "outputs": [],
   "source": [
    "PATH_TO_DOCUMENT_tsne = './data_for_visual/document_tsne_obj.json'\n",
    "document_tsne_result = json.loads(codecs.open(PATH_TO_DOCUMENT_tsne, 'r', 'utf-8').read())"
   ]
  },
  {
   "cell_type": "code",
   "execution_count": 196,
   "metadata": {
    "collapsed": true
   },
   "outputs": [],
   "source": [
    "PATH_TO_PICS_tsne = './data_for_visual/pics_tsne_obj.json'\n",
    "pics_tsne_result = json.loads(codecs.open(PATH_TO_PICS_tsne, 'r', 'utf-8').read())"
   ]
  },
  {
   "cell_type": "markdown",
   "metadata": {},
   "source": [
    "# Functions to make scatter graph"
   ]
  },
  {
   "cell_type": "code",
   "execution_count": 197,
   "metadata": {
    "collapsed": true
   },
   "outputs": [],
   "source": [
    "def format_item_values(document_svd_result): \n",
    "\n",
    "    # This should be function\n",
    "    XY_list = [member_obj['position_vector'] for member_obj in document_svd_result.values()]\n",
    "    universities = [member_obj['university'] for member_obj in document_svd_result.values()]\n",
    "    major = [member_obj['major'] for member_obj in document_svd_result.values()]\n",
    "    height = [member_obj['height'] for member_obj in document_svd_result.values()]\n",
    "    age = [member_obj['age'] for member_obj in document_svd_result.values()]\n",
    "    X = [xy[0] for xy in XY_list]\n",
    "    Y = [xy[1] for xy in XY_list]\n",
    "    labels = [member_obj['member_name'] for member_obj in document_svd_result.values()]\n",
    "    #images = [str(member_obj['photo_url'].replace(u'//img', u'/img')) for member_obj in document_svd_result.values()]\n",
    "    images = ['{}{}'.format(IMAGE_ROOT_URL, name_rubi) for name_rubi in document_svd_result.keys()]\n",
    "    blog_links = [member_obj['blog_url'] for member_obj in document_svd_result.values()]\n",
    "    profile_links = [member_obj['profile_url'] for member_obj in document_svd_result.values()]\n",
    "    \n",
    "    return {\n",
    "        'X': X,\n",
    "        'Y': Y,\n",
    "        'universities': universities,\n",
    "        'major': major,\n",
    "        'height': height,\n",
    "        'age': age,\n",
    "        'labels': labels,\n",
    "        'images': images,\n",
    "        'blog_links': blog_links,\n",
    "        'profile_links': profile_links\n",
    "    }"
   ]
  },
  {
   "cell_type": "code",
   "execution_count": 258,
   "metadata": {
    "collapsed": true
   },
   "outputs": [],
   "source": [
    "from bokeh.models import ColumnDataSource, OpenURL, TapTool\n",
    "from bokeh.plotting import figure, output_file, show\n",
    "def generate_graph(items_for_graph, graph_title_name, graph_html_name):\n",
    "    output_file(graph_html_name)\n",
    "\n",
    "    source = ColumnDataSource(\n",
    "            data=dict(\n",
    "            x=items_for_graph['X'],\n",
    "            y=items_for_graph['Y'],\n",
    "            desc=items_for_graph['labels'],\n",
    "            imgs = items_for_graph['images'],\n",
    "            univ = items_for_graph['universities'],\n",
    "            major = items_for_graph['major'],\n",
    "            height = items_for_graph['height'],\n",
    "            age = items_for_graph['age'],\n",
    "            blog = items_for_graph['blog_links'],\n",
    "            profile= items_for_graph['profile_links'],\n",
    "            )\n",
    "        )\n",
    "    \n",
    "\n",
    "    hover = HoverTool(\n",
    "        tooltips=\"\"\"\n",
    "        <div>\n",
    "            <div>\n",
    "                <img\n",
    "                    src=\"@imgs\" height=\"100\" alt=\"@imgs\" width=\"100\"\n",
    "                    style=\"float: left; margin: 0px 15px 40px 0px;\"\n",
    "                    border=\"2\"\n",
    "                >\n",
    "                <br>\n",
    "                </img>\n",
    "            </div>\n",
    "            <div>\n",
    "                <span style=\"font-size: 17px; font-weight: bold;\"><nobr>@desc さん</nobr></span>\n",
    "                <span style=\"font-size: 12px; color: #966;\">[$index]</span>\n",
    "            </div>\n",
    "            <div>\n",
    "                <span style=\"font-size: 10px;\">University: @univ</span><br>\n",
    "                <span style=\"font-size: 10px;\">Major: @major</span><br>\n",
    "                <span style=\"font-size: 10px;\">age: @age</span><br>\n",
    "                <span style=\"font-size: 10px;\">height: @height</span><br>\n",
    "            </div>            \n",
    "            <div>\n",
    "                <span style=\"font-size: 12px;\">Position</span>\n",
    "                <span style=\"font-size: 10px; color: #696;\">($x, $y)</span>\n",
    "            </div>\n",
    "        </div>\n",
    "        \"\"\"\n",
    "        )\n",
    "\n",
    "\n",
    "    s1 = figure(plot_width=GRAPH_WIDTH, plot_height=GRAPH_HEIGHT, tools=[hover]+TOOLS,\n",
    "               title=graph_title_name)\n",
    "    s1.circle('x', 'y', size=10, source=source)\n",
    "    url = \"@profile\"\n",
    "    taptool = s1.select(type=TapTool)\n",
    "    taptool.callback = OpenURL(url=url)\n",
    "    \n",
    "    columns = [\n",
    "        TableColumn(field=\"desc\", title=\"Name\"),\n",
    "        TableColumn(field=\"univ\", title=\"University\"),\n",
    "        TableColumn(field=\"major\", title=\"Major\"),\n",
    "        TableColumn(field=\"age\", title=\"Age\"), \n",
    "        TableColumn(field=\"height\", title=\"Height\")\n",
    "    ]\n",
    "    data_table = DataTable(source=source, columns=columns, width=1000, height=500)\n",
    "    s2 = vform(data_table)\n",
    "    \n",
    "    p = vplot(s1, s2)\n",
    "\n",
    "    show(p)"
   ]
  },
  {
   "cell_type": "markdown",
   "metadata": {},
   "source": [
    "## generate scatter graph by document and svd"
   ]
  },
  {
   "cell_type": "code",
   "execution_count": 265,
   "metadata": {
    "collapsed": false
   },
   "outputs": [],
   "source": [
    "items_for_graph = format_item_values(document_svd_result)\n",
    "generate_graph(items_for_graph, \n",
    "               graph_title_name='girls similarity based on document svd',\n",
    "               graph_html_name=\"document_svd_scatter.html\")"
   ]
  },
  {
   "cell_type": "code",
   "execution_count": 275,
   "metadata": {
    "collapsed": false
   },
   "outputs": [],
   "source": [
    "items_for_graph_pics_tsne = format_item_values(pics_tsne_result)\n",
    "generate_graph(items_for_graph_pics_tsne, \n",
    "               graph_title_name='girls similarity based on pictures tsne', \n",
    "               graph_html_name=\"pics_tsne_scatter.html\")"
   ]
  },
  {
   "cell_type": "code",
   "execution_count": null,
   "metadata": {
    "collapsed": true
   },
   "outputs": [],
   "source": []
  }
 ],
 "metadata": {
  "kernelspec": {
   "display_name": "Python 2",
   "language": "python",
   "name": "python2"
  },
  "language_info": {
   "codemirror_mode": {
    "name": "ipython",
    "version": 2
   },
   "file_extension": ".py",
   "mimetype": "text/x-python",
   "name": "python",
   "nbconvert_exporter": "python",
   "pygments_lexer": "ipython2",
   "version": "2.7.10"
  }
 },
 "nbformat": 4,
 "nbformat_minor": 0
}
